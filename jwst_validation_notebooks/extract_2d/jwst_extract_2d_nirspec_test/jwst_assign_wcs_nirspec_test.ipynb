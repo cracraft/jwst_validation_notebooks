{
 "cells": [
  {
   "cell_type": "markdown",
   "metadata": {},
   "source": [
    "<a id=\"title_ID\"></a>\n",
    "# JWST Pipeline Validation Testing Notebook: spec2, assign_wcs step\n",
    "\n",
    "<span style=\"color:red\"> **Instruments Affected**</span>: NIRSpec \n",
    "\n",
    "Tested on CV3 data\n",
    "\n",
    "### Table of Contents\n",
    "<div style=\"text-align: left\"> \n",
    "\n",
    "<br> [Imports](#imports_ID) <br> [Introduction](#intro_ID) <br> [Testing Data Set](#data_ID) <br> [Run the JWST pipeline and assign_wcs validation tests](#pipeline_ID): [FS Full-Frame test](#FULLFRAME), [FS ALLSLITS test](#ALLSLITS), [MOS test](#MOS), [IFU test](#IFU) <br> [About This Notebook](#about_ID)<br> [Results](#results) <br>\n",
    "\n",
    "</div>"
   ]
  },
  {
   "cell_type": "markdown",
   "metadata": {},
   "source": [
    "<a id=\"imports_ID\"></a>\n",
    "# Imports\n",
    "The library imports relevant to this notebook are aready taken care of by importing PTT.\n",
    "\n",
    "* astropy.io for opening fits files\n",
    "* jwst.module.PipelineStep is the pipeline step being tested\n",
    "* matplotlib.pyplot.plt to generate plot\n",
    "\n",
    "NOTE: This notebook assumes that the pipeline version to be tested is already installed and its environment is activated.\n",
    "\n",
    "To be able to run this notebook you need to install nptt. \n",
    "\n",
    "If all goes well you will be able to import PTT.\n",
    "\n",
    "[Top of Page](#title_ID)"
   ]
  },
  {
   "cell_type": "code",
   "execution_count": null,
   "metadata": {
    "nbpresent": {
     "id": "45177853-942e-4949-9e30-f544d70ef5f4"
    }
   },
   "outputs": [],
   "source": [
    "import os\n",
    "from astropy.io import fits\n",
    "\n",
    "from jwst.assign_wcs.assign_wcs_step import AssignWcsStep\n",
    "\n",
    "# The latest version of NPTT is installed in the requirements text file at:\n",
    "# /jwst_validation_notebooks/requirements.txt\n",
    "\n",
    "# import NPTT\n",
    "import nirspec_pipe_testing_tool as nptt"
   ]
  },
  {
   "cell_type": "code",
   "execution_count": null,
   "metadata": {},
   "outputs": [],
   "source": [
    "# Make sure that the version used is the right one\n",
    "\n",
    "# to get the latest version from 'master' run:\n",
    "# subprocess.run(['pip', 'install', 'git+https://github.com/spacetelescope/nirspec_pipe_testing_tool@master'])\n",
    "\n",
    "latest_nptt_stable_version = '1.1.1'\n",
    "nptt_version = nptt.__version__\n",
    "\n",
    "if nptt_version != latest_nptt_stable_version:\n",
    "    print(\"* WARNING - The code might break because the version used is not the latest stable version:\")\n",
    "    print(\"            Latest stable version is \", latest_nptt_stable_version)\n",
    "    print(\"            Using NPTT version \", nptt_version)"
   ]
  },
  {
   "cell_type": "markdown",
   "metadata": {},
   "source": [
    "<a id=\"intro_ID\"></a>\n",
    "# Introduction\n",
    "\n",
    "We compared Institute's pipeline product of the assign_wcs step with our benchmark files, or with the intermediary products from the ESA pipeline, which is completely independent from the Institute's. The comparison file is referred to as 'truth'. We calculated the relative difference and expected it to be equal to or less than computer precision:  relative_difference = absolute_value( (Truth - ST)/Truth )  <= 1x10^-7. \n",
    "\n",
    "For the test to be considered PASSED, every single slit (for FS data), slitlet (for MOS data) or slice (for IFU data) in the input file has to pass. If there is any failure, the whole test will be considered as FAILED. \n",
    "\n",
    "The code for this test for Fixed Slits (FS) can be obtained from: https://github.com/spacetelescope/nirspec_pipe_testing_tool/blob/master/nirspec_pipe_testing_tool/calwebb_spec2_pytests/auxiliary_code/compare_wcs_fs.py. For Multi Object Spectroscopy (MOS), the code is in the same repository but is named ```compare_wcs_mos.py```, and for Integral Field Unit (IFU) data, the test is named ```compare_wcs_ifu.py```.\n",
    "The input file is defined in the variable ```input_file``` (see section [Testing Data Set and Variable Setup](#data_ID)).\n",
    "\n",
    "Step description: https://jwst-pipeline.readthedocs.io/en/latest/jwst/assign_wcs/main.html\n",
    "\n",
    "Pipeline code: https://github.com/spacetelescope/jwst/tree/master/jwst/assign_wcs\n",
    "\n",
    "\n",
    "### Calibration WG Requested Algorithm: \n",
    "\n",
    "A short description and link to the page: https://outerspace.stsci.edu/display/JWSTCC/Vanilla+Spectral+GWCS+Information \n",
    "\n",
    "\n",
    "### Defining Term\n",
    "Acronymns used un this notebook:\n",
    "\n",
    "pipeline: calibration pipeline\n",
    "\n",
    "spec2: spectroscopic calibration pipeline level 2b\n",
    "\n",
    "PTT: NIRSpec pipeline testing tool (https://github.com/spacetelescope/nirspec_pipe_testing_tool)\n",
    "\n",
    "\n",
    "[Top of Page](#title_ID)"
   ]
  },
  {
   "cell_type": "markdown",
   "metadata": {},
   "source": [
    "<a id=\"data_ID\"></a>\n",
    "# Testing Data Set\n",
    "\n",
    "All testing data is from the CV3 campaign. We chose these files because this is our most complete data set, i.e. all modes and filter-grating combinations.\n",
    "\n",
    "Data used was for testing:\n",
    "- FS_FULLFRAME_G395H_F290LP\n",
    "- FS_ALLSLITS_G140H_F100LP\n",
    "- MOS_G140M_LINE1\n",
    "- IFU_G395H_F290LP\n",
    "\n",
    "The testing data can be located at ```path_to_nirspec_vault/prelaunch_data/testing_sets/b7.1_pipeline_testing/test_data_suite```\n",
    "\n",
    "In that directory you will find a subdirectory for CV3 data for FS, MOS, and IFU, as well as other campaigns. This notebook is specifically written for CV3 data.\n",
    "\n",
    "\n",
    "[Top of Page](#title_ID)"
   ]
  },
  {
   "cell_type": "markdown",
   "metadata": {},
   "source": [
    "<a id=\"pipeline_ID\"></a>\n",
    "# Run the JWST pipeline and assign_wcs validation tests\n",
    "\n",
    "The pipeline can be run from the command line in two variants: full or per step.\n",
    "\n",
    "Tu run the spec2 pipeline in full use the command: \n",
    "\n",
    "$ strun jwst.pipeline.Spec2Pipeline jwtest_rate.fits\n",
    "\n",
    "Tu only run the assign_wcs step, use the command:\n",
    "\n",
    "$ strun jwst.assign_wcs.AssignWcsStep jwtest_rate.fits\n",
    "\n",
    "NIRSpec TA data will be run through the cal_detector1 and the imaging2 pipelines. The imaging pipeline can be run with the following fommand:\n",
    "\n",
    "$ strun jwst.pipeline.Image2Pipeline jwtest_rate.fits\n",
    "\n",
    "These options are also callable from a script with the testing environment active. The Python call for running the pipeline in full or by step are:\n",
    "\n",
    "$\\gt$ from jwst.pipeline.calwebb_spec2 import Spec2Pipeline\n",
    "\n",
    "$\\gt$ Spec2Pipeline.call(jwtest_rate.fits)\n",
    " \n",
    "or\n",
    " \n",
    "$\\gt$ from jwst.assign_wcs.assign_wcs_step import AssignWcsStep\n",
    " \n",
    "$\\gt$ AssignWcsStep.call(jwtest_rate.fits)\n",
    "\n",
    "For the imaging pipeline the call would be as follows:\n",
    "\n",
    "$\\gt$ from jwst.pipeline.calwebb_image2 import Image2Pipeline\n",
    "\n",
    "$\\gt$ Image2Pipeline.call(jwtest_rate.fits)\n",
    "\n",
    "NPTT can run the spec2 pipeline either in full or per step, as well as the imaging pipeline in full. In this notebook we will use NPTT to run the pipeline and the validation tests. To run NPTT, follow the directions in the corresponding repo page.\n",
    "\n",
    "[Top of Page](#title_ID)"
   ]
  },
  {
   "cell_type": "markdown",
   "metadata": {},
   "source": [
    "-> For each mode, the following variables will need to be set:\n",
    "\n",
    "- output_directory = path where you want intermediary files and plots to be saved in\n",
    "\n",
    "- input_file = this is the previous step file, e.g. jwtest1_NRS1_rate.fits\n",
    "\n",
    "- mode_used = supported modes are: FS, MOS, IFU, BOTS, MOS_sim, dark, image, confirm, taconfirm, wata, msata, focus, mimf\n",
    "\n",
    "- raw_data_root_file = CV3 raw data file\n"
   ]
  },
  {
   "cell_type": "markdown",
   "metadata": {},
   "source": [
    "<a id=\"common_vars\"></a>\n",
    "# Common Variables"
   ]
  },
  {
   "cell_type": "code",
   "execution_count": null,
   "metadata": {},
   "outputs": [],
   "source": [
    "# Set common variables for entire notebook\n",
    "\n",
    "# paths\n",
    "vault_path = os.path.join(os.environ.get('WIT4_PATH'), 'nirspec_vault')\n",
    "test_data_path = '/Users/pena/Documents/PyCharmProjects/nirspec/pipeline/testing_data'\n",
    "\n",
    "# define benchmark (or 'truth') file\n",
    "compare_assign_wcs_and_extract_2d_with_esa = False\n",
    "\n",
    "# accepted threshold difference with respect to benchmark files\n",
    "threshold_diff = 1e-7\n",
    "\n",
    "# other variable\n",
    "save_figs = False\n",
    "show_figs = True"
   ]
  },
  {
   "cell_type": "markdown",
   "metadata": {},
   "source": [
    "<a id=\"FULLFRAME\"></a>\n",
    "# FS FULL-FRAME test"
   ]
  },
  {
   "cell_type": "code",
   "execution_count": null,
   "metadata": {},
   "outputs": [],
   "source": [
    "# Set the variables for Fixed Slit (FS) data\n",
    "data_directory = os.path.join(test_data_path, 'FS_FULL_FRAME/G395H_opaque/')\n",
    "input_file = os.path.join(data_directory, 'final_output_caldet1_NRS1.fits')\n",
    "mode_used = 'FS'\n",
    "output_directory = 'somewhere_to_save_the_plots'"
   ]
  },
  {
   "cell_type": "code",
   "execution_count": null,
   "metadata": {},
   "outputs": [],
   "source": [
    "# ESA intermediary products\n",
    "raw_data_root_file = 'NRSSMOS-MOD-G3H-02-5344120942_1_491_SE_2015-12-10T12h18m25.fits'\n",
    "esa_files_path = os.path.join(vault_path, 'prelaunch_data/testing_sets/b7.1_pipeline_testing/test_data_suite/')\n",
    "esa_files_full_path = \"\".join([esa_files_path, mode_used, \"_CV3_cutouts/ESA_Int_products\"])\n",
    "\n",
    "# pipeline intermediary products\n",
    "truth_file = os.path.join(data_directory, 'final_output_caldet1_NRS1_assign_wcs_truth.fits')\n",
    "\n",
    "if not compare_assign_wcs_and_extract_2d_with_esa:\n",
    "    esa_files_path, raw_data_root_file = None, None\n",
    "else:\n",
    "    truth_file = None"
   ]
  },
  {
   "cell_type": "code",
   "execution_count": null,
   "metadata": {
    "nbpresent": {
     "id": "fb9e82bd-ecca-4033-ad38-8772e288b145"
    }
   },
   "outputs": [],
   "source": [
    "# Run the pipeline step\n",
    "step_output_file = input_file.replace(\".fits\", \"_assign_wcs.fits\")\n",
    "pipe_result = AssignWcsStep.call(input_file)\n",
    "#pipe_result.save(step_output_file)   # this is to save the pipeline output to a file"
   ]
  },
  {
   "cell_type": "code",
   "execution_count": null,
   "metadata": {},
   "outputs": [],
   "source": [
    "# Run the validation test\n",
    "%matplotlib inline\n",
    "result, _ = nptt.calwebb_spec2_pytests.auxiliary_code.compare_wcs_fs.compare_wcs(pipe_result, truth_file=truth_file, \n",
    "                                                                                 esa_files_path=esa_files_full_path, \n",
    "                                                                                 show_figs=show_figs,\n",
    "                                                                                 save_figs=save_figs, \n",
    "                                                                                 threshold_diff=threshold_diff, \n",
    "                                                                                 raw_data_root_file=raw_data_root_file,\n",
    "                                                                                 output_directory=None)"
   ]
  },
  {
   "cell_type": "code",
   "execution_count": null,
   "metadata": {},
   "outputs": [],
   "source": [
    "# Quickly see if the test passed \n",
    "   \n",
    "print(\"Did assign_wcs validation for FS FULL-FRAME test passed? \", result)"
   ]
  },
  {
   "cell_type": "markdown",
   "metadata": {},
   "source": [
    "<a id=\"ALLSLITS\"></a>\n",
    "# FS ALLSLITS test"
   ]
  },
  {
   "cell_type": "code",
   "execution_count": null,
   "metadata": {},
   "outputs": [],
   "source": [
    "# Set the variables \n",
    "data_directory = os.path.join(test_data_path, 'FS_ALLSLITS/G140H_F100LP')\n",
    "input_file = os.path.join(data_directory, 'final_output_caldet1_NRS1_F100LP.fits')\n",
    "mode_used = 'FS'\n",
    "output_directory = 'somewhere_to_save_the_plots'"
   ]
  },
  {
   "cell_type": "code",
   "execution_count": null,
   "metadata": {},
   "outputs": [],
   "source": [
    "# ESA intermediary products\n",
    "raw_data_root_file = 'NRSSDRK-ALLSLITS-5345150216_1_491_SE_2015-12-11T15h40m25.fits'\n",
    "esa_files_path = os.path.join(vault_path, 'prelaunch_data/testing_sets/b7.1_pipeline_testing/test_data_suite/')\n",
    "esa_files_full_path = \"\".join([esa_files_path, mode_used, \"_CV3/ESA_Int_products\"])\n",
    "\n",
    "# pipeline intermediary products\n",
    "truth_file = os.path.join(data_directory, 'final_output_caldet1_NRS1_F100LP_assign_wcs_truth.fits')\n",
    "\n",
    "if not compare_assign_wcs_and_extract_2d_with_esa:\n",
    "    esa_files_path, raw_data_root_file = None, None\n",
    "else:\n",
    "    truth_file = None"
   ]
  },
  {
   "cell_type": "code",
   "execution_count": null,
   "metadata": {
    "nbpresent": {
     "id": "fb9e82bd-ecca-4033-ad38-8772e288b145"
    }
   },
   "outputs": [],
   "source": [
    "# Run the pipeline step\n",
    "step_output_file = input_file.replace(\".fits\", \"_assign_wcs.fits\")\n",
    "pipe_result = AssignWcsStep.call(input_file)\n",
    "#pipe_result.save(step_output_file)   # this is to save the pipeline output to a file"
   ]
  },
  {
   "cell_type": "code",
   "execution_count": null,
   "metadata": {},
   "outputs": [],
   "source": [
    "# Run the validation test\n",
    "%matplotlib inline\n",
    "result, _ = nptt.calwebb_spec2_pytests.auxiliary_code.compare_wcs_fs.compare_wcs(pipe_result, truth_file=truth_file, \n",
    "                                                                                 esa_files_path=esa_files_full_path, \n",
    "                                                                                 show_figs=show_figs,\n",
    "                                                                                 save_figs=save_figs, \n",
    "                                                                                 threshold_diff=threshold_diff, \n",
    "                                                                                 raw_data_root_file=raw_data_root_file)"
   ]
  },
  {
   "cell_type": "code",
   "execution_count": null,
   "metadata": {},
   "outputs": [],
   "source": [
    "# Quickly see if the test passed \n",
    "   \n",
    "print(\"Did assign_wcs validation test for FS ALLSLITS passed? \", result)\n"
   ]
  },
  {
   "cell_type": "markdown",
   "metadata": {},
   "source": [
    "<a id=\"MOS\"></a>\n",
    "# MOS test"
   ]
  },
  {
   "cell_type": "code",
   "execution_count": null,
   "metadata": {},
   "outputs": [],
   "source": [
    "# Set the variables \n",
    "data_directory = os.path.join(test_data_path, 'MOS/G140M_LINE1')\n",
    "input_file = os.path.join(data_directory, 'final_output_caldet1_NRS1.fits')\n",
    "mode_used = 'MOS'\n",
    "msa_conf_name = os.path.join(data_directory,'V8460001000101_msa.fits')\n",
    "output_directory = 'somewhere_to_save_the_plots'"
   ]
  },
  {
   "cell_type": "code",
   "execution_count": null,
   "metadata": {},
   "outputs": [],
   "source": [
    "# ESA intermediary products\n",
    "raw_data_root_file = 'NRSV84600010001P0000000002101_4_491_SE_2016-01-17T17h34m08.fits'\n",
    "esa_files_path = os.path.join(vault_path, 'prelaunch_data/testing_sets/b7.1_pipeline_testing/test_data_suite/')\n",
    "esa_files_full_path = \"\".join([esa_files_path, mode_used, \"_CV3/ESA_Int_products\"])\n",
    "\n",
    "# pipeline intermediary products\n",
    "truth_file = os.path.join(data_directory, 'final_output_caldet1_NRS1_assign_wcs_truth.fits')\n",
    "\n",
    "if not compare_assign_wcs_and_extract_2d_with_esa:\n",
    "    esa_files_path, raw_data_root_file = None, None\n",
    "else:\n",
    "    truth_file = None\n",
    "    "
   ]
  },
  {
   "cell_type": "code",
   "execution_count": null,
   "metadata": {
    "nbpresent": {
     "id": "fb9e82bd-ecca-4033-ad38-8772e288b145"
    }
   },
   "outputs": [],
   "source": [
    "# Run the pipeline step\n",
    "step_output_file = input_file.replace(\".fits\", \"_assign_wcs.fits\")\n",
    "pipe_result = AssignWcsStep.call(input_file)\n",
    "#pipe_result.save(step_output_file)   # this is to save the pipeline output to a file"
   ]
  },
  {
   "cell_type": "code",
   "execution_count": null,
   "metadata": {},
   "outputs": [],
   "source": [
    "# Run the validation test\n",
    "%matplotlib inline\n",
    "result, _ = nptt.calwebb_spec2_pytests.auxiliary_code.compare_wcs_mos.compare_wcs(pipe_result, \n",
    "                                                                                  msa_conf_name=msa_conf_name, \n",
    "                                                                                  truth_file=truth_file,\n",
    "                                                                                  esa_files_path=esa_files_full_path, \n",
    "                                                                                  show_figs=show_figs, \n",
    "                                                                                  save_figs=save_figs, \n",
    "                                                                                  threshold_diff=threshold_diff,\n",
    "                                                                                  mode_used=mode_used, \n",
    "                                                                                  raw_data_root_file=raw_data_root_file)"
   ]
  },
  {
   "cell_type": "code",
   "execution_count": null,
   "metadata": {},
   "outputs": [],
   "source": [
    "# Quickly see if the test passed \n",
    "   \n",
    "print(\"Did assign_wcs validation for MOS test passed? \", result)\n"
   ]
  },
  {
   "cell_type": "markdown",
   "metadata": {},
   "source": [
    "<a id=\"IFU\"></a>\n",
    "# IFU test"
   ]
  },
  {
   "cell_type": "code",
   "execution_count": null,
   "metadata": {},
   "outputs": [],
   "source": [
    "# Set the variables \n",
    "data_directory = os.path.join(test_data_path, 'IFU_CV3/G395H_OPAQUE')\n",
    "input_file = os.path.join(data_directory, 'final_output_caldet1_NRS1.fits')\n",
    "mode_used = 'IFU'\n",
    "output_directory = 'somewhere_to_save_the_plots'"
   ]
  },
  {
   "cell_type": "code",
   "execution_count": null,
   "metadata": {},
   "outputs": [],
   "source": [
    "# ESA intermediary products\n",
    "raw_data_root_file = 'NRSSMOS-MOD-G3H-18-5344134506_1_492_SE_2015-12-10T13h57m30.fits'\n",
    "esa_files_path = os.path.join(vault_path, 'prelaunch_data/testing_sets/b7.1_pipeline_testing/test_data_suite/')\n",
    "esa_files_full_path = \"\".join([esa_files_path, mode_used, \"_CV3/ESA_Int_products\"])\n",
    "\n",
    "# pipeline intermediary products\n",
    "truth_file = os.path.join(data_directory, 'final_output_caldet1_NRS2_assign_wcs_truth.fits')\n",
    "\n",
    "if not compare_assign_wcs_and_extract_2d_with_esa:\n",
    "    esa_files_path, raw_data_root_file = None, None\n",
    "else:\n",
    "    truth_file = None\n",
    "    "
   ]
  },
  {
   "cell_type": "code",
   "execution_count": null,
   "metadata": {
    "nbpresent": {
     "id": "fb9e82bd-ecca-4033-ad38-8772e288b145"
    }
   },
   "outputs": [],
   "source": [
    "# Run the pipeline step\n",
    "step_output_file = input_file.replace(\".fits\", \"_assign_wcs.fits\")\n",
    "pipe_result = AssignWcsStep.call(input_file)\n",
    "#pipe_result.save(step_output_file)   # this is to save the pipeline output to a file"
   ]
  },
  {
   "cell_type": "code",
   "execution_count": null,
   "metadata": {},
   "outputs": [],
   "source": [
    "# Run the validation test\n",
    "%matplotlib inline\n",
    "result, _ = nptt.calwebb_spec2_pytests.auxiliary_code.compare_wcs_ifu.compare_wcs(pipe_result, truth_file=truth_file, \n",
    "                                                                                  esa_files_path=esa_files_full_path, \n",
    "                                                                                  show_figs=show_figs,\n",
    "                                                                                  save_figs=save_figs, \n",
    "                                                                                  threshold_diff=threshold_diff, \n",
    "                                                                                  raw_data_root_file=raw_data_root_file)"
   ]
  },
  {
   "cell_type": "code",
   "execution_count": null,
   "metadata": {},
   "outputs": [],
   "source": [
    "# Quickly see if the test passed \n",
    "   \n",
    "print(\"Did assign_wcs validation test for IFU passed? \", result)\n"
   ]
  },
  {
   "cell_type": "markdown",
   "metadata": {},
   "source": [
    "<a id=\"results\"></a>\n",
    "## Results\n",
    "\n",
    "If the test **PASSED** this means that all slits, slitlets, or slices individually passed the test. However, if ony one individual slit (for FS data), slitlet (for MOS data) or slice (for IFU data) test failed, the whole test will be reported as **FAILED**."
   ]
  },
  {
   "cell_type": "markdown",
   "metadata": {},
   "source": [
    "<a id=\"about_ID\"></a>\n",
    "## About this Notebook\n",
    "**Author:** Maria A. Pena-Guerrero, Staff Scientist II - Systems Science Support, NIRSpec\n",
    "<br>**Updated On:** Sept/25/2020"
   ]
  },
  {
   "cell_type": "markdown",
   "metadata": {},
   "source": [
    "[Top of Page](#title_ID)\n",
    "<img style=\"float: right;\" src=\"./stsci_pri_combo_mark_horizonal_white_bkgd.png\" alt=\"stsci_pri_combo_mark_horizonal_white_bkgd\" width=\"200px\"/> "
   ]
  }
 ],
 "metadata": {
  "kernelspec": {
   "display_name": "Python 3",
   "language": "python",
   "name": "python3"
  },
  "language_info": {
   "codemirror_mode": {
    "name": "ipython",
    "version": 3
   },
   "file_extension": ".py",
   "mimetype": "text/x-python",
   "name": "python",
   "nbconvert_exporter": "python",
   "pygments_lexer": "ipython3",
   "version": "3.7.7"
  }
 },
 "nbformat": 4,
 "nbformat_minor": 1
}
